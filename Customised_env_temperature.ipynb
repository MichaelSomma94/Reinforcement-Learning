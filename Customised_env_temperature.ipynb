{
 "cells": [
  {
   "cell_type": "code",
   "execution_count": null,
   "id": "cb5bc294",
   "metadata": {},
   "outputs": [],
   "source": [
    "import numpy as np\n",
    "import pandas as pd\n",
    "from gym import Env\n",
    "from gym.spaces import Box, Discrete"
   ]
  },
  {
   "cell_type": "markdown",
   "id": "b8418f3f",
   "metadata": {},
   "source": [
    "# Customized Gym Enviornment\n",
    "- the scope of this notebook is to implement a customized Environment on which we can train a Reinforcement Learning Agent\n"
   ]
  },
  {
   "cell_type": "markdown",
   "id": "55621059",
   "metadata": {},
   "source": [
    "- we inherit from the gym.Env as superclass\n",
    "- in this formalism it is compulsary to have a reset() method that returns a value consistent with the observation_space() \n",
    "- and a step function that takes as an input a valid action_space() value and returns state, reward, done, {}"
   ]
  },
  {
   "cell_type": "markdown",
   "id": "1e0029d9",
   "metadata": {},
   "source": [
    "- the environment describes the situation of somebody in the shower that has to keep the temperature that is randomly changing within a certain temperature range by adjusting the temperature regulator"
   ]
  },
  {
   "cell_type": "code",
   "execution_count": null,
   "id": "364fb314",
   "metadata": {},
   "outputs": [],
   "source": [
    "class CustomEnv(Env):\n",
    "    def __init__(self):\n",
    "        self.action_space = Box( \n",
    "            low=np.array([-1]), high=np.array([1]), dtype=np.float16) #Discrete(3)\n",
    "        self.observation_space = Box(low=np.array([0]), high=np.array([100]))\n",
    "        self.state = 38 + np.random.randint(-3,3)\n",
    "        self.shower_length = 60\n",
    "        \n",
    "    def step(self, action):\n",
    "        self.state += action -1 \n",
    "        self.shower_length -= 1 \n",
    "        \n",
    "        if self.state >=37 and self.state <=39: \n",
    "            reward =1 \n",
    "        else: \n",
    "            reward = -1 \n",
    "        \n",
    "        if self.shower_length <= 0: \n",
    "            done = True\n",
    "        else:\n",
    "            done = False\n",
    "        \n",
    "        info = {}\n",
    "        \n",
    "        # Return step information\n",
    "        return self.state, reward, done, info\n",
    "    \n",
    "    def reset(self):\n",
    "        self.state = 38 + random.randint(-3,3)\n",
    "        self.shower_length = 60 \n",
    "        return self.state"
   ]
  },
  {
   "cell_type": "code",
   "execution_count": null,
   "id": "c4470af4",
   "metadata": {},
   "outputs": [],
   "source": [
    "env = CustomEnv()"
   ]
  },
  {
   "cell_type": "code",
   "execution_count": null,
   "id": "91327ed8",
   "metadata": {},
   "outputs": [],
   "source": [
    "env.observation_space.sample()\n",
    "env.action_space.sample()"
   ]
  },
  {
   "cell_type": "code",
   "execution_count": null,
   "id": "10b3d73f",
   "metadata": {},
   "outputs": [],
   "source": [
    "state = 39\n",
    "action = env.action_space.sample()"
   ]
  },
  {
   "cell_type": "code",
   "execution_count": null,
   "id": "653e4e09",
   "metadata": {},
   "outputs": [],
   "source": [
    "print(env.step(action[0]))"
   ]
  },
  {
   "cell_type": "markdown",
   "id": "121a26d0",
   "metadata": {},
   "source": [
    "-  CustomEnv2 is a varinat that also takes in a data frame (df) of historic temperature values"
   ]
  },
  {
   "cell_type": "code",
   "execution_count": 2,
   "id": "e3e957a3",
   "metadata": {},
   "outputs": [],
   "source": [
    "class CustomEnv2(Env):\n",
    "        \"\"\"A stock trading environment for OpenAI gym\"\"\"\n",
    "        metadata = {'render.modes': ['human']}\n",
    "        def __init__(self, df):\n",
    "            super( CustomEnv2, self).__init__()\n",
    "\n",
    "            self.df = df['Temp']\n",
    "            self.action_space = Box( \n",
    "                low=np.array([-1]), high=np.array([1]), dtype=np.float16) #Discrete(3)\n",
    "            self.observation_space = Box(low=np.array([0]), high=np.array([100]))\n",
    "            #self.state = 38 + np.random.randint(-3,3)  has to be defined\n",
    "            self.shower_length = len(self.df)\n",
    "            self.current_step = 0\n",
    "            \n",
    "\n",
    "        \n",
    "        def step(self, action):\n",
    "            self.state = self.df.loc[self.current_step]\n",
    "            self.state += action\n",
    "            self.shower_length -= 1 \n",
    "\n",
    "            if self.state >=37 and self.state <=39: \n",
    "                reward =1 \n",
    "            else: \n",
    "                reward = -1 \n",
    "\n",
    "            if self.shower_length <= 0: \n",
    "                done = True\n",
    "            else:\n",
    "                done = False\n",
    "\n",
    "            info = {}\n",
    "            #\n",
    "            self.current_step += 1\n",
    "\n",
    "            # Return step information\n",
    "            return self.state, reward, done, info\n",
    "        \n",
    "        def render(self, mode='human', close=False):\n",
    "        # Render the environment to the screen\n",
    "        \n",
    "            return self.state, \n",
    "        \n",
    "        def reset(self):\n",
    "            self.current_step = 0\n",
    "            self.shower_length = len(self.df)\n"
   ]
  },
  {
   "cell_type": "code",
   "execution_count": 10,
   "id": "73a4b2b2",
   "metadata": {},
   "outputs": [],
   "source": [
    "x=np.array([38])\n",
    "df = []\n",
    "for i in range(1,29):\n",
    "    x = np.append(x, 38 + np.random.randint(-3,3))\n",
    "    \n",
    "df = pd.DataFrame(data = {'Temp': x})\n"
   ]
  },
  {
   "cell_type": "code",
   "execution_count": null,
   "id": "7150275c",
   "metadata": {},
   "outputs": [],
   "source": [
    "print(df.loc[0])"
   ]
  },
  {
   "cell_type": "code",
   "execution_count": 4,
   "id": "f2a16b35",
   "metadata": {},
   "outputs": [
    {
     "name": "stderr",
     "output_type": "stream",
     "text": [
      "/Users/michiundslavki/opt/anaconda3/envs/FINRlearn/lib/python3.10/site-packages/gym/spaces/box.py:73: UserWarning: \u001b[33mWARN: Box bound precision lowered by casting to float16\u001b[0m\n",
      "  logger.warn(\n",
      "/Users/michiundslavki/opt/anaconda3/envs/FINRlearn/lib/python3.10/site-packages/gym/spaces/box.py:73: UserWarning: \u001b[33mWARN: Box bound precision lowered by casting to float32\u001b[0m\n",
      "  logger.warn(\n"
     ]
    }
   ],
   "source": [
    "env2 = CustomEnv2(df)"
   ]
  },
  {
   "cell_type": "markdown",
   "id": "8473c355",
   "metadata": {},
   "source": [
    "- this is the action of a random agent throughout a whole epsiode"
   ]
  },
  {
   "cell_type": "code",
   "execution_count": 14,
   "id": "37344d28",
   "metadata": {},
   "outputs": [
    {
     "name": "stdout",
     "output_type": "stream",
     "text": [
      "(37.37675091662275,) 1\n",
      "(39.74498153376948,) -1\n",
      "(35.04169866577228,) -1\n",
      "(36.81501013393374,) -1\n",
      "(40.71064627612988,) -1\n",
      "(36.22161679985232,) -1\n",
      "(40.44602534209463,) -1\n",
      "(37.8838868612253,) 1\n",
      "(36.045137068018654,) -1\n",
      "(36.06972285112382,) -1\n",
      "(34.0866622312357,) -1\n",
      "(39.455676349647234,) -1\n",
      "(36.209738005122944,) -1\n",
      "(35.33483258450534,) -1\n",
      "(40.224492230861436,) -1\n",
      "(37.577284094597125,) 1\n",
      "(39.21344140609785,) -1\n",
      "(38.12764512660757,) 1\n",
      "(40.01361454250628,) -1\n",
      "(39.66309067133144,) -1\n",
      "(35.694227589997375,) -1\n",
      "(35.41401957161638,) -1\n",
      "(39.72406907084325,) -1\n",
      "(34.903401887748515,) -1\n",
      "(36.32319548230697,) -1\n",
      "(37.88832279175245,) 1\n",
      "(38.18939950055618,) 1\n",
      "(40.41465065336991,) -1\n",
      "(40.22761284635279,) -1\n"
     ]
    }
   ],
   "source": [
    "a=-1 \n",
    "b=1\n",
    "done=False\n",
    "State = np.zeros([0])\n",
    "while done is not True: \n",
    "    action = (b - a) * np.random.rand() + a\n",
    "    \n",
    "    state, reward, done, _ = env2.step(action)\n",
    "    State = np.append(State, state)\n",
    "    print(env2.render(), reward)"
   ]
  },
  {
   "cell_type": "code",
   "execution_count": 39,
   "id": "45ca2537",
   "metadata": {},
   "outputs": [
    {
     "data": {
      "image/png": "[encoded data removed]",
      "text/plain": [
       "<Figure size 640x480 with 1 Axes>"
      ]
     },
     "metadata": {},
     "output_type": "display_data"
    }
   ],
   "source": [
    "\n",
    "feature = t_step\n",
    "label = State\n",
    "label_low = np.full(29, 36)\n",
    "label_high = np.full(29, 39)\n",
    "\n",
    "\n",
    "fig, ax = plt.subplots()\n",
    "ax.fill_between(feature, label_low, label_high, alpha=0.2)\n",
    "ax.plot(feature, label)\n",
    "ax.set_xlabel(\"time / s\")\n",
    "ax.set_ylabel('Temperature/ Celsius')\n",
    "ax.set_title('Temperature vs time')\n",
    "ax.grid()"
   ]
  },
  {
   "cell_type": "markdown",
   "id": "570bd5ec",
   "metadata": {},
   "source": [
    "- Can you train Reinforcment Learning Agent to perform better\n",
    "- Make sure you choose an Alogorithm that can handle conintous action spaces"
   ]
  }
 ],
 "metadata": {
  "kernelspec": {
   "display_name": "Python 3 (ipykernel)",
   "language": "python",
   "name": "python3"
  },
  "language_info": {
   "codemirror_mode": {
    "name": "ipython",
    "version": 3
   },
   "file_extension": ".py",
   "mimetype": "text/x-python",
   "name": "python",
   "nbconvert_exporter": "python",
   "pygments_lexer": "ipython3",
   "version": "3.9.16"
  }
 },
 "nbformat": 4,
 "nbformat_minor": 5
}
