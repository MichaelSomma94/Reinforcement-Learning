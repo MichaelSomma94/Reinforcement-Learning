{
 "cells": [
  {
   "cell_type": "code",
   "execution_count": 5,
   "id": "83efeb50",
   "metadata": {},
   "outputs": [],
   "source": [
    "import random\n",
    "import numpy as np\n",
    "import copy\n",
    "import gym\n",
    "from gym.spaces import Box, Discrete\n",
    "import matplotlib.pyplot as plt\n",
    "import torch\n",
    "import torch.nn.functional as F\n",
    "import matplotlib.pyplot as plt\n",
    "from torch import nn as nn\n",
    "from torch.optim import AdamW\n",
    "from tqdm import tqdm"
   ]
  },
  {
   "cell_type": "markdown",
   "id": "1d5f96e5",
   "metadata": {},
   "source": [
    "# Installation (Mac M1)\n",
    "python version 3.8\n",
    "\n",
    "- update pip \"pip install --upgrade pip\"\n",
    "\n",
    "- install pytorch: \"pip3 install torch torchvision\""
   ]
  },
  {
   "cell_type": "markdown",
   "id": "cba27454",
   "metadata": {},
   "source": [
    "- the aim of the project is to implement a customized Reinforcement Learning environment based on the Gym library \n",
    "- and then teach an DQN the rules of the game"
   ]
  },
  {
   "cell_type": "markdown",
   "id": "adc5a754",
   "metadata": {},
   "source": [
    "- we start of by defining the environment"
   ]
  },
  {
   "cell_type": "code",
   "execution_count": 6,
   "id": "38e16005",
   "metadata": {},
   "outputs": [],
   "source": [
    "class Qwixx_Env_3(gym.Env):\n",
    "    \n",
    "        #metadata = {'render.modes': ['human']}\n",
    "        def __init__(self):\n",
    "            super( Qwixx_Env_3, self).__init__()\n",
    "            self.action_space = Discrete(3) #pass, make a cross at the first or second round\n",
    "            self.observation_space = Box(low=0, high=12, shape= (26,), dtype=int)\n",
    "            self.score_board = np.array([[1., 0., 0., 0., 0., 0., 0., 0., 0., 0., 0., 0., 0.],\n",
    "                                        [1., 0., 0., 0., 0., 0., 0., 0., 0., 0., 0., 0., 0.]]).astype(int)\n",
    "            self.current_step = 1\n",
    "            info = {}\n",
    "           \n",
    "            done = False\n",
    "            \n",
    "        def reset(self):\n",
    "            done = False\n",
    "            self.current_step = 1\n",
    "            self.score_board = np.array([[1, 0., 0., 0., 0., 0., 0., 0., 0., 0., 0., 0.,0.],\n",
    "                                        [1, 0., 0., 0., 0., 0., 0., 0., 0., 0., 0., 0., 0.]]).astype(int)\n",
    "            info = {}\n",
    "            return self.score_board.reshape(26,)\n",
    "        def step(self, action):\n",
    "            reward = -0.01\n",
    "            done = False\n",
    "            info = {}\n",
    "            possible_sums = self.dice()\n",
    "            self.score_board[0][1] = possible_sums[\"white_red\"]\n",
    "            self.score_board[1][1] = possible_sums[\"white_yellow\"]\n",
    "            if action == 0:\n",
    "                reward = self.reward_back(action, possible_sums[\"white_red\"])\n",
    "                self.update(action, possible_sums[\"white_red\"])\n",
    "            elif action == 1:\n",
    "                reward = self.reward_back(action, possible_sums[\"white_yellow\"]) \n",
    "                self.update(action, possible_sums[\"white_yellow\"])\n",
    "            elif action == 2: \n",
    "                reward = -0.05 # tested -0.25, 0.25, -0.05\n",
    "                self.score_board = self.score_board\n",
    "            else: \n",
    "                raise Exception\n",
    "            self.current_step += 1\n",
    "            if self.current_step == 10 :\n",
    "                done =True\n",
    "            if (self.score_board[0][12] != 0) or (self.score_board[1][12] != 0):\n",
    "                reward = 1.0\n",
    "                done = True\n",
    "            # one function that gives the dice values\n",
    "            # one that converts it two the sums\n",
    "            # one that based on the action and the sums gives a reward -0.01 and -0.5\n",
    "            return self.score_board.astype(int).reshape(26,), reward, done, info\n",
    "        def dice(self):\n",
    "            white_dice = np.random.randint(1,7)\n",
    "            red_dice = np.random.randint(1,7)\n",
    "            yellow_dice = np.random.randint(1,7)\n",
    "            possible_sums = {\"white_red\": white_dice + red_dice, \"white_yellow\": white_dice + yellow_dice}\n",
    "\n",
    "            return possible_sums\n",
    "\n",
    "        def reward_back(self, action, current_sum):\n",
    "            #index_current = np.where(self.score_board[action] == self.current_step)[0][0]\n",
    "            index_last = np.max(np.nonzero(self.score_board[action]))\n",
    "            if (index_last < current_sum):\n",
    "                reward = 0.5\n",
    "            else: \n",
    "                reward = -1. #tested -0.7, -1.\n",
    "            return reward\n",
    "        def update(self, action, current_sum):\n",
    "            self.score_board[action][current_sum] = 1\n",
    "            \n",
    "        def finished(self):\n",
    "            if (self.score_board[0][11] != 0) or (self.score_board[1][11] != 0):\n",
    "                reward = 1.0\n",
    "                done = True\n",
    "                return done\n",
    "            else:\n",
    "                done = False\n",
    "        def render(self):\n",
    "            print(self.score_board)"
   ]
  },
  {
   "cell_type": "markdown",
   "id": "7fbb6d01",
   "metadata": {},
   "source": [
    "- the Gym based environment returns numpy array, as our plan is to feed the states into a neuronal network approximating the Q-values, we must convert the returned quanities into Torch tensors\n",
    "- the following Wrapper does the job for us"
   ]
  },
  {
   "cell_type": "code",
   "execution_count": 3,
   "id": "6eceb7f7",
   "metadata": {},
   "outputs": [],
   "source": [
    "class PreprocessEnv(gym.Wrapper):\n",
    "    \n",
    "    def __init__(self, env):\n",
    "        gym.Wrapper.__init__(self, env)\n",
    "    \n",
    "    def reset(self):\n",
    "        obs = self.env.reset()\n",
    "        return torch.from_numpy(obs).unsqueeze(dim=0).float()\n",
    "    \n",
    "    def step(self, action):\n",
    "        action = action.item()\n",
    "        next_state, reward, done, info = self.env.step(action)\n",
    "        next_state = torch.from_numpy(next_state).unsqueeze(dim=0).float()\n",
    "        reward = torch.tensor(reward).view(1, -1).float()\n",
    "        done = torch.tensor(done).view(1, -1)\n",
    "        return next_state, reward, done, info"
   ]
  },
  {
   "cell_type": "markdown",
   "id": "c80697e3",
   "metadata": {},
   "source": [
    "- now we can create an object of the environment class and then wrap it"
   ]
  },
  {
   "cell_type": "code",
   "execution_count": 7,
   "id": "60964889",
   "metadata": {},
   "outputs": [],
   "source": [
    "qwixx3 = Qwixx_Env_3()\n",
    "qwixx3.reset()\n",
    "env = PreprocessEnv(qwixx3)"
   ]
  },
  {
   "cell_type": "markdown",
   "id": "21ffefce",
   "metadata": {},
   "source": [
    "- let's now try the environment with a random agent"
   ]
  },
  {
   "cell_type": "code",
   "execution_count": 18,
   "id": "85a94a3e",
   "metadata": {},
   "outputs": [
    {
     "name": "stdout",
     "output_type": "stream",
     "text": [
      "action taken tensor([[1]]) with reward tensor([[0.5000]])\n",
      "action taken tensor([[0]]) with reward tensor([[0.5000]])\n",
      "action taken tensor([[1]]) with reward tensor([[-1.]])\n",
      "action taken tensor([[0]]) with reward tensor([[-1.]])\n",
      "action taken tensor([[1]]) with reward tensor([[-1.]])\n",
      "action taken tensor([[0]]) with reward tensor([[-1.]])\n",
      "action taken tensor([[1]]) with reward tensor([[1.]])\n"
     ]
    }
   ],
   "source": [
    "qwixx2 = Qwixx_Env_3()\n",
    "qwixx2.reset()\n",
    "env2 = PreprocessEnv(qwixx2)\n",
    "obs = env2.reset()\n",
    "\n",
    "reward = 0\n",
    "done = False\n",
    "while not done:  \n",
    "          action = torch.randint(0, 2, (1,1))\n",
    "          obs, reward, done, info = env2.step(action)\n",
    "          print(f\"action taken {action} with reward {reward}\")\n",
    "          "
   ]
  },
  {
   "cell_type": "code",
   "execution_count": null,
   "id": "7f8ab181",
   "metadata": {},
   "outputs": [],
   "source": [
    "- we can see by randomly taking action the agent gets punishment of  -1., which means it is not fullfilling the rules\n",
    "of the game"
   ]
  },
  {
   "cell_type": "markdown",
   "id": "c8d7f81c",
   "metadata": {},
   "source": [
    "- No let's see if with a DQN agent we can teach the agent how to play according to the rules of the game, that we set\n",
    "- we first need a neuronal network that approximate the Q-values based on a given state and action, the states are torch tensors of dimension (#batch x 26)   \n",
    "- then we define a epsilon-greedy policy"
   ]
  },
  {
   "cell_type": "code",
   "execution_count": 19,
   "id": "462c4c66",
   "metadata": {},
   "outputs": [],
   "source": [
    "num_actions = 3\n",
    "state_dim = 13\n",
    "num_bord_rows = 2\n",
    "q_network = nn.Sequential(\n",
    "    nn.Linear(state_dim*num_bord_rows, 256), # testet 128 , 256\n",
    "    nn.ReLU(),\n",
    "    nn.Linear(256, 64),\n",
    "    nn.ReLU(),\n",
    "    nn.Linear(64, num_actions))"
   ]
  },
  {
   "cell_type": "code",
   "execution_count": 20,
   "id": "7631813b",
   "metadata": {},
   "outputs": [],
   "source": [
    "target_q_network = copy.deepcopy(q_network).eval()"
   ]
  },
  {
   "cell_type": "code",
   "execution_count": 21,
   "id": "c71e2b91",
   "metadata": {},
   "outputs": [],
   "source": [
    "def policy(state, epsilon=0.):\n",
    "    num_actions = 3\n",
    "    if torch.rand(1) < epsilon:\n",
    "        return torch.randint(0, 2, (1,1)) # change accrodingly to action space, start/end value, dimension\n",
    "    else:\n",
    "        av = q_network(state).detach()\n",
    "        return torch.argmax(av, dim=-1, keepdim=True)"
   ]
  },
  {
   "cell_type": "markdown",
   "id": "bd4be37d",
   "metadata": {},
   "source": [
    "- now we come to the heart of the Deep Q alogrithm\n",
    "- we define a class for the replay memory, of which we will draw sample for optimizing the weights of the Q-network\n",
    "- and we define a function that implements deep Q-learning"
   ]
  },
  {
   "cell_type": "code",
   "execution_count": 22,
   "id": "58b8d296",
   "metadata": {},
   "outputs": [],
   "source": [
    "class ReplayMemory:\n",
    "    \n",
    "    def __init__(self, capacity=100000):\n",
    "        self.capacity = capacity\n",
    "        self.memory = []\n",
    "        self.position = 0\n",
    "\n",
    "    def insert(self, transition):\n",
    "        if len(self.memory) < self.capacity:\n",
    "            self.memory.append(None)\n",
    "        self.memory[self.position] = transition\n",
    "        self.position = (self.position + 1) % self.capacity\n",
    "\n",
    "    def sample(self, batch_size):\n",
    "        assert self.can_sample(batch_size)\n",
    "\n",
    "        batch = random.sample(self.memory, batch_size)\n",
    "        batch = zip(*batch)\n",
    "        return [torch.cat(items) for items in batch]\n",
    "\n",
    "    def can_sample(self, batch_size):\n",
    "        return len(self.memory) >= batch_size * 10\n",
    "\n",
    "    def __len__(self):\n",
    "        return len(self.memory)"
   ]
  },
  {
   "cell_type": "code",
   "execution_count": 23,
   "id": "5ad95cef",
   "metadata": {},
   "outputs": [],
   "source": [
    "def deep_q_learning(q_network, policy, episodes, \n",
    "                    alpha=0.00001, batch_size=32, gamma=0.99, epsilon=0.2):\n",
    "    \n",
    "    optim = AdamW(q_network.parameters(), lr=alpha)\n",
    "    memory = ReplayMemory()\n",
    "    stats = {'MSE Loss': [], 'Returns': []}\n",
    "    \n",
    "    for episode in tqdm(range(1, episodes + 1)):\n",
    "        state = env.reset()\n",
    "        done = False\n",
    "        ep_return = 0\n",
    "        while not done:\n",
    "            action = policy(state, epsilon)\n",
    "            next_state, reward, done, _ = env.step(action)\n",
    "            \n",
    "            memory.insert([state, action, reward, done, next_state])\n",
    "            \n",
    "            if memory.can_sample(batch_size):\n",
    "                state_b, action_b, reward_b, done_b, next_state_b = memory.sample(batch_size)              \n",
    "                qsa_b = q_network(state_b).gather(1, action_b)\n",
    "                \n",
    "                next_qsa_b = target_q_network(next_state_b)\n",
    "                next_qsa_b = torch.max(next_qsa_b, dim=-1, keepdim=True)[0]\n",
    "                \n",
    "                target_b = reward_b + ~done_b * gamma * next_qsa_b\n",
    "                loss = F.mse_loss(qsa_b, target_b)\n",
    "                q_network.zero_grad()\n",
    "                loss.backward()\n",
    "                optim.step()\n",
    "                \n",
    "                stats['MSE Loss'].append(loss)  \n",
    "                \n",
    "            state = next_state\n",
    "            ep_return += reward.item()\n",
    "            \n",
    "        \n",
    "        stats['Returns'].append(ep_return)\n",
    "        \n",
    "        if episode % 10 == 0:\n",
    "            target_q_network.load_state_dict(q_network.state_dict())\n",
    "\n",
    "    return stats"
   ]
  },
  {
   "cell_type": "code",
   "execution_count": 34,
   "id": "d787cf9d",
   "metadata": {},
   "outputs": [
    {
     "name": "stderr",
     "output_type": "stream",
     "text": [
      "100%|████████████████████████████████████████| 500/500 [00:02<00:00, 194.93it/s]\n"
     ]
    }
   ],
   "source": [
    "stats = deep_q_learning(q_network, policy, 500)"
   ]
  },
  {
   "cell_type": "markdown",
   "id": "5ddb1a97",
   "metadata": {},
   "source": [
    "- and now we can print the results of the returns and play one episode with our trained agent"
   ]
  },
  {
   "cell_type": "code",
   "execution_count": 37,
   "id": "28e03e76",
   "metadata": {},
   "outputs": [
    {
     "data": {
      "text/plain": [
       "Text(0, 0.5, 'Return')"
      ]
     },
     "execution_count": 37,
     "metadata": {},
     "output_type": "execute_result"
    },
    {
     "data": {
      "image/png": "[encoded data removed]",
      "text/plain": [
       "<Figure size 640x480 with 1 Axes>"
      ]
     },
     "metadata": {},
     "output_type": "display_data"
    }
   ],
   "source": [
    "plt.plot(stats['Returns'][0:100])\n",
    "plt.xlabel(\"Episodes\")\n",
    "plt.ylabel(\"Return\")"
   ]
  },
  {
   "cell_type": "code",
   "execution_count": 36,
   "id": "755bde2f",
   "metadata": {},
   "outputs": [
    {
     "name": "stdout",
     "output_type": "stream",
     "text": [
      "action taken tensor([[1]]) with reward tensor([[0.5000]])\n",
      "action taken tensor([[2]]) with reward tensor([[-0.0500]])\n",
      "action taken tensor([[0]]) with reward tensor([[0.5000]])\n",
      "action taken tensor([[0]]) with reward tensor([[0.5000]])\n",
      "action taken tensor([[2]]) with reward tensor([[-0.0500]])\n",
      "action taken tensor([[2]]) with reward tensor([[-0.0500]])\n",
      "action taken tensor([[2]]) with reward tensor([[-0.0500]])\n",
      "action taken tensor([[2]]) with reward tensor([[-0.0500]])\n",
      "action taken tensor([[2]]) with reward tensor([[-0.0500]])\n"
     ]
    }
   ],
   "source": [
    "qwixx4 = Qwixx_Env_3()\n",
    "qwixx4.reset()\n",
    "env3 = PreprocessEnv(qwixx4)\n",
    "obs = env3.reset()\n",
    "\n",
    "reward = 0\n",
    "done = False\n",
    "while not done:  \n",
    "          action = policy(obs)\n",
    "          obs, reward, done, info = env3.step(action)\n",
    "          print(f\"action taken {action} with reward {reward}\")\n",
    "\n"
   ]
  },
  {
   "cell_type": "markdown",
   "id": "613c1e43",
   "metadata": {},
   "source": [
    "- Voila, we successfully taught the rules of our game to an Deep Q-learing agent\n",
    "- we achieved convergence in the trainging and the agent is not punished by -1. for violatinge the rules"
   ]
  }
 ],
 "metadata": {
  "kernelspec": {
   "display_name": "Python 3 (ipykernel)",
   "language": "python",
   "name": "python3"
  },
  "language_info": {
   "codemirror_mode": {
    "name": "ipython",
    "version": 3
   },
   "file_extension": ".py",
   "mimetype": "text/x-python",
   "name": "python",
   "nbconvert_exporter": "python",
   "pygments_lexer": "ipython3",
   "version": "3.8.16"
  }
 },
 "nbformat": 4,
 "nbformat_minor": 5
}
